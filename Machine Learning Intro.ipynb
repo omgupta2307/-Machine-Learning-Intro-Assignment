{
 "cells": [
  {
   "cell_type": "raw",
   "id": "777bccb1-eeab-428e-b87a-20d0db2e068d",
   "metadata": {},
   "source": [
    "                                            Machine Learning Intro | Assignment\n",
    "                                      _______________________________________________\n",
    "Q1.Question 1: Explain the differences between AI, ML, Deep Learning (DL), and Data\n",
    "Science (DS).\n",
    "ANS:- AI (Artificial Intelligence): Machines that think and act like humans. Example: Chatbots, self-driving cars.\n",
    "\n",
    "ML (Machine Learning): A part of AI where machines learn from data. Example: Spam filters, recommendations.\n",
    "\n",
    "DL (Deep Learning): A part of ML using neural networks to handle complex data. Example: Image or speech recognition.\n",
    "\n",
    "DS (Data Science): Using data, statistics, and ML to get insights and make decisions. Example: Sales prediction, business analytics.\n",
    "\n",
    "AI > ML > DL (DL ⊆ ML ⊆ AI), and DS uses all to analyze data.\n",
    "\n",
    "Question 2: What are the types of machine learning? Describe each with one\n",
    "real-world example.\n",
    "ANS:- 1. Supervised Learning\n",
    "Definition: Learns from labeled data to make predictions.\n",
    "Example: Email spam detection.\n",
    "\n",
    "2. Unsupervised Learning\n",
    "Definition: Finds hidden patterns in unlabeled data.\n",
    "Example: Grouping similar movies for recommendations.\n",
    "\n",
    "3. Reinforcement Learning\n",
    "Definition: Learns by trial and reward from environment.\n",
    "Example: Self-driving cars learning to navigate.\n",
    "\n",
    "4. Semi-Supervised Learning\n",
    "Definition: Uses a mix of labeled and unlabeled data.\n",
    "Example: Predicting medical diagnoses with few labeled cases.\n",
    "\n",
    "Question 3: Define overfitting, underfitting, and the bias-variance tradeoff in machine\n",
    "learning.\n",
    "ANS:- Underfitting - Model learns too little bad on both tranning and test\n",
    "Overfitting - Model learns too much good on traning bad on test.\n",
    "\n",
    "Bias Variance Trade-off - Balancing act:\n",
    "High bias- Model is too simple - underfitting\n",
    "High variance -Model is too complex - overfitting\n",
    "\n",
    "Goal = Balance  them for best performance.\n",
    "\n",
    "Question 4: What are outliers in a dataset, and list three common techniques for\n",
    "handling them.\n",
    "ANS:- Outliers :-\n",
    "Data points that are far away from most other values in a dataset.\n",
    "Example: In exam scores [50, 52, 51, 99], 99 is an outlier.\n",
    "\n",
    "Three Common Techniques to Handle Outliers\n",
    "Remove Outliers – Simply delete extreme values.\n",
    "Cap or Floor (Winsorization) – Replace outliers with nearest acceptable value.\n",
    "Transform Data – Use log, square root, or other transformations to reduce impact.\n",
    "\n",
    "Question 5: Explain the process of handling missing values and mention one\n",
    "imputation technique for numerical and one for categorical data.\n",
    "ANS:- Handling Missing Values\n",
    "\n",
    "Identify missing data in your dataset.\n",
    "\n",
    "Decide how to handle it:\n",
    "\n",
    "1.Remove rows or columns with too many missing values.\n",
    "2.Impute (fill) missing values with estimates.\n",
    "\n",
    "Imputation Techniques\n",
    "\n",
    "Numerical Data: Replace missing values with mean or median.\n",
    "Categorical Data: Replace missing values with mode (most frequent value).\n",
    "\n",
    "Example:\n",
    "\n",
    "Numerical: Age = [25, 30, NaN, 28] → fill NaN with mean = 27.67\n",
    "Categorical: Color = ['Red', 'Blue', NaN, 'Red'] → fill NaN with mode = 'Red'\n",
    "\n",
    "Question 6: Write a Python program that:\n",
    "● Creates a synthetic imbalanced dataset with make_classification() from\n",
    "sklearn.datasets.\n",
    "● Prints the class distribution.\n",
    "ANS:-"
   ]
  },
  {
   "cell_type": "code",
   "execution_count": 8,
   "id": "5e10f33e-91ac-4d3f-8008-eae32bfbd573",
   "metadata": {},
   "outputs": [
    {
     "name": "stdout",
     "output_type": "stream",
     "text": [
      "Requirement already satisfied: scikit-learn in c:\\users\\dell\\appdata\\local\\programs\\python\\python313\\lib\\site-packages (1.7.1)\n",
      "Requirement already satisfied: numpy>=1.22.0 in c:\\users\\dell\\appdata\\local\\programs\\python\\python313\\lib\\site-packages (from scikit-learn) (2.3.2)\n",
      "Requirement already satisfied: scipy>=1.8.0 in c:\\users\\dell\\appdata\\local\\programs\\python\\python313\\lib\\site-packages (from scikit-learn) (1.16.1)\n",
      "Requirement already satisfied: joblib>=1.2.0 in c:\\users\\dell\\appdata\\local\\programs\\python\\python313\\lib\\site-packages (from scikit-learn) (1.5.2)\n",
      "Requirement already satisfied: threadpoolctl>=3.1.0 in c:\\users\\dell\\appdata\\local\\programs\\python\\python313\\lib\\site-packages (from scikit-learn) (3.6.0)\n",
      "Class distribution: Counter({np.int64(0): 894, np.int64(1): 106})\n"
     ]
    }
   ],
   "source": [
    "!pip install scikit-learn\n",
    "import sklearn\n",
    "from sklearn.datasets import make_classification\n",
    "from collections import Counter\n",
    "\n",
    "# Step 2: Create synthetic imbalanced dataset\n",
    "X, y = make_classification(\n",
    "    n_samples=1000,       # total samples\n",
    "    n_features=5,         # number of features\n",
    "    n_informative=3,      # informative features\n",
    "    n_redundant=0,        # redundant features\n",
    "    n_classes=2,          # binary classification\n",
    "    weights=[0.9, 0.1],   # imbalance: 90% class 0, 10% class 1\n",
    "    random_state=42\n",
    ")\n",
    "\n",
    "# Step 3: Print class distribution\n",
    "class_counts = Counter(y)\n",
    "print(\"Class distribution:\", class_counts)\n",
    "\n"
   ]
  },
  {
   "cell_type": "raw",
   "id": "f926b610-c0f2-44ba-b692-77f052255e23",
   "metadata": {},
   "source": [
    "Question 7: Implement one-hot encoding using pandas for the following list of colors:\n",
    "['Red', 'Green', 'Blue', 'Green', 'Red']. Print the resulting dataframe\n",
    "ANS:-"
   ]
  },
  {
   "cell_type": "code",
   "execution_count": 11,
   "id": "eb80f1b4-75e2-4b5d-9e1a-4c6813f9089c",
   "metadata": {},
   "outputs": [
    {
     "name": "stdout",
     "output_type": "stream",
     "text": [
      "Requirement already satisfied: pandas in c:\\users\\dell\\appdata\\local\\programs\\python\\python313\\lib\\site-packages (2.3.2)\n",
      "Requirement already satisfied: numpy>=1.26.0 in c:\\users\\dell\\appdata\\local\\programs\\python\\python313\\lib\\site-packages (from pandas) (2.3.2)\n",
      "Requirement already satisfied: python-dateutil>=2.8.2 in c:\\users\\dell\\appdata\\local\\programs\\python\\python313\\lib\\site-packages (from pandas) (2.9.0.post0)\n",
      "Requirement already satisfied: pytz>=2020.1 in c:\\users\\dell\\appdata\\local\\programs\\python\\python313\\lib\\site-packages (from pandas) (2025.2)\n",
      "Requirement already satisfied: tzdata>=2022.7 in c:\\users\\dell\\appdata\\local\\programs\\python\\python313\\lib\\site-packages (from pandas) (2025.2)\n",
      "Requirement already satisfied: six>=1.5 in c:\\users\\dell\\appdata\\local\\programs\\python\\python313\\lib\\site-packages (from python-dateutil>=2.8.2->pandas) (1.17.0)\n",
      "   Color_Blue  Color_Green  Color_Red\n",
      "0       False        False       True\n",
      "1       False         True      False\n",
      "2        True        False      False\n",
      "3       False         True      False\n",
      "4       False        False       True\n"
     ]
    }
   ],
   "source": [
    "!pip install pandas\n",
    "import pandas as pd\n",
    "\n",
    "# Sample list of colors\n",
    "colors = ['Red', 'Green', 'Blue', 'Green', 'Red']\n",
    "\n",
    "# Step 1: Convert list to DataFrame\n",
    "df = pd.DataFrame(colors, columns=['Color'])\n",
    "\n",
    "# Step 2: Apply one-hot encoding\n",
    "one_hot_df = pd.get_dummies(df, columns=['Color'])\n",
    "\n",
    "# Step 3: Print result\n",
    "print(one_hot_df)\n"
   ]
  },
  {
   "cell_type": "raw",
   "id": "6a4d15c8-743a-4004-a527-152c32182cfa",
   "metadata": {},
   "source": [
    "Question 8: Write a Python script to:\n",
    "● Generate 1000 samples from a normal distribution.\n",
    "● Introduce 50 random missing values.\n",
    "● Fill missing values with the column mean.\n",
    "● Plot a histogram before and after imputation.\n",
    "ANS:-"
   ]
  },
  {
   "cell_type": "code",
   "execution_count": 13,
   "id": "aaaab826-c513-4729-9273-82996d565dc9",
   "metadata": {},
   "outputs": [
    {
     "data": {
      "image/png": "[encoded data removed]",
      "text/plain": [
       "<Figure size 1200x500 with 2 Axes>"
      ]
     },
     "metadata": {},
     "output_type": "display_data"
    }
   ],
   "source": [
    "import numpy as np\n",
    "import pandas as pd\n",
    "import matplotlib.pyplot as plt\n",
    "\n",
    "# Step 1: Generate 1000 samples from a normal distribution\n",
    "np.random.seed(42)\n",
    "data = np.random.normal(loc=50, scale=5, size=1000)\n",
    "df = pd.DataFrame(data, columns=['Values'])\n",
    "\n",
    "# Step 2: Introduce 50 random missing values\n",
    "missing_indices = np.random.choice(df.index, size=50, replace=False)\n",
    "df.loc[missing_indices, 'Values'] = np.nan\n",
    "\n",
    "# Step 3: Plot histogram BEFORE imputation\n",
    "plt.figure(figsize=(12,5))\n",
    "plt.subplot(1,2,1)\n",
    "plt.hist(df['Values'], bins=20, edgecolor='black', alpha=0.7)\n",
    "plt.title(\"Before Imputation\")\n",
    "plt.xlabel(\"Value\")\n",
    "plt.ylabel(\"Frequency\")\n",
    "\n",
    "# Step 4: Fill missing values with column mean\n",
    "mean_value = df['Values'].mean()\n",
    "df['Values']=df['Values'].fillna(mean_value)\n",
    "\n",
    "# Step 5: Plot histogram AFTER imputation\n",
    "plt.subplot(1,2,2)\n",
    "plt.hist(df['Values'], bins=20, edgecolor='black', alpha=0.7)\n",
    "plt.title(\"After Imputation (Filled with Mean)\")\n",
    "plt.xlabel(\"Value\")\n",
    "plt.ylabel(\"Frequency\")\n",
    "\n",
    "plt.tight_layout()\n",
    "plt.show()\n"
   ]
  },
  {
   "cell_type": "raw",
   "id": "4d03f40d-9770-4b5d-baf9-bf216dcc93f7",
   "metadata": {},
   "source": [
    "Question 9: Implement Min-Max scaling on the following list of numbers [2, 5, 10, 15,\n",
    "20] using sklearn.preprocessing.MinMaxScaler. Print the scaled array.\n",
    "ANS:-"
   ]
  },
  {
   "cell_type": "code",
   "execution_count": 14,
   "id": "0b5bd2b2-0e8a-46cc-9adb-4c4a5b1664b7",
   "metadata": {},
   "outputs": [
    {
     "name": "stdout",
     "output_type": "stream",
     "text": [
      "Original Data:\n",
      " [ 2  5 10 15 20]\n",
      "Scaled Data (0 to 1 range):\n",
      " [0.         0.16666667 0.44444444 0.72222222 1.        ]\n"
     ]
    }
   ],
   "source": [
    "from sklearn.preprocessing import MinMaxScaler\n",
    "import numpy as np\n",
    "\n",
    "# Original data\n",
    "data = np.array([2, 5, 10, 15, 20]).reshape(-1, 1)\n",
    "\n",
    "# Initialize the scaler\n",
    "scaler = MinMaxScaler()\n",
    "\n",
    "# Fit and transform the data\n",
    "scaled_data = scaler.fit_transform(data)\n",
    "\n",
    "# Print the scaled array\n",
    "print(\"Original Data:\\n\", data.flatten())\n",
    "print(\"Scaled Data (0 to 1 range):\\n\", scaled_data.flatten())\n"
   ]
  },
  {
   "cell_type": "raw",
   "id": "2ac113a9-0326-41ea-9055-9a90ab1421ca",
   "metadata": {},
   "source": [
    "Question 10: You are working as a data scientist for a retail company. You receive a customer\n",
    "transaction dataset that contains:\n",
    "● Missing ages,\n",
    "● Outliers in transaction amount,\n",
    "● A highly imbalanced target (fraud vs. non-fraud),\n",
    "● Categorical variables like payment method.\n",
    "Explain the step-by-step data preparation plan you’d follow before training a machine learning\n",
    "model. Include how you’d address missing data, outliers, imbalance, and encoding.\n",
    "ANS:-Missing values (numerical & categorical)\n",
    "Outliers (by capping extreme values)\n",
    "Class imbalance (using SMOTE)\n",
    "Encoding categorical features\n",
    "Scaling numerical values"
   ]
  },
  {
   "cell_type": "code",
   "execution_count": 17,
   "id": "3b1e1b96-0624-435c-a496-29321bddf541",
   "metadata": {},
   "outputs": [
    {
     "name": "stdout",
     "output_type": "stream",
     "text": [
      "SMOTE will be used with k_neighbors = 1 (minority_count = 2)\n"
     ]
    }
   ],
   "source": [
    "# Step 0: imports\n",
    "import pandas as pd\n",
    "import numpy as np\n",
    "from sklearn.model_selection import train_test_split\n",
    "from sklearn.impute import SimpleImputer\n",
    "from sklearn.preprocessing import OneHotEncoder, StandardScaler\n",
    "from sklearn.compose import ColumnTransformer\n",
    "from sklearn.pipeline import Pipeline as SKPipeline\n",
    "from sklearn.ensemble import RandomForestClassifier\n",
    "from sklearn.metrics import classification_report, confusion_matrix\n",
    "from imblearn.over_sampling import SMOTE\n",
    "from imblearn.pipeline import Pipeline as ImbPipeline\n",
    "\n",
    "# -------------------------\n",
    "# Step 1: Create example dataset\n",
    "# -------------------------\n",
    "data = {\n",
    "    'Age': [25, np.nan, 30, 40, 22, np.nan, 35, 28, np.nan, 45],\n",
    "    'TransactionAmount': [100, 20000, 150, 300, 50000, 400, 350, 100000, 700, 600],\n",
    "    'PaymentMethod': ['Cash', 'CreditCard', 'DebitCard', 'Cash', 'CreditCard',\n",
    "                      'DebitCard', 'Cash', 'CreditCard', 'DebitCard', 'Cash'],\n",
    "    'Fraud': [0, 1, 0, 0, 1, 0, 0, 1, 0, 0]\n",
    "}\n",
    "df = pd.DataFrame(data)\n",
    "\n",
    "# -------------------------\n",
    "# Step 2: Features & target\n",
    "# -------------------------\n",
    "X = df.drop('Fraud', axis=1).copy()\n",
    "y = df['Fraud'].copy()\n",
    "\n",
    "# -------------------------\n",
    "# Step 3: Simple outlier capping for TransactionAmount (IQR)\n",
    "# -------------------------\n",
    "q1 = X['TransactionAmount'].quantile(0.25)\n",
    "q3 = X['TransactionAmount'].quantile(0.75)\n",
    "iqr = q3 - q1\n",
    "lower = q1 - 1.5 * iqr\n",
    "upper = q3 + 1.5 * iqr\n",
    "X['TransactionAmount'] = X['TransactionAmount'].clip(lower, upper)\n",
    "\n",
    "# -------------------------\n",
    "# Step 4: Train-test split (stratify to keep fraud ratio)\n",
    "# -------------------------\n",
    "X_train, X_test, y_train, y_test = train_test_split(\n",
    "    X, y, test_size=0.2, random_state=42, stratify=y\n",
    ")\n",
    "\n",
    "# -------------------------\n",
    "# Step 5: Choose SMOTE k_neighbors dynamically (safe for small datasets)\n",
    "# -------------------------\n",
    "minority_count = y_train.value_counts().min()\n",
    "if minority_count <= 1:\n",
    "    # Too few minority samples — can't apply SMOTE\n",
    "    use_smote = False\n",
    "    print(\"SMOTE skipped: too few minority samples in training set. Using class_weight instead.\")\n",
    "else:\n",
    "    use_smote = True\n",
    "    k_neighbors = min(5, max(1, minority_count - 1))  # at least 1\n",
    "    print(f\"SMOTE will be used with k_neighbors = {k_neighbors} (minority_count = {minority_count})\")\n",
    "\n",
    "# --\n"
   ]
  }
 ],
 "metadata": {
  "kernelspec": {
   "display_name": "Python 3 (ipykernel)",
   "language": "python",
   "name": "python3"
  },
  "language_info": {
   "codemirror_mode": {
    "name": "ipython",
    "version": 3
   },
   "file_extension": ".py",
   "mimetype": "text/x-python",
   "name": "python",
   "nbconvert_exporter": "python",
   "pygments_lexer": "ipython3",
   "version": "3.13.5"
  }
 },
 "nbformat": 4,
 "nbformat_minor": 5
}
